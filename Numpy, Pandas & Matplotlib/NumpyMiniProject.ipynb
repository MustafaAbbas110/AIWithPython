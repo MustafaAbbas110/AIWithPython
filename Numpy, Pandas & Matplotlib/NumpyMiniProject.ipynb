{
 "cells": [
  {
   "cell_type": "code",
   "execution_count": 62,
   "metadata": {},
   "outputs": [],
   "source": [
    "import numpy as np"
   ]
  },
  {
   "cell_type": "markdown",
   "metadata": {},
   "source": [
    "# Mean Normalization"
   ]
  },
  {
   "cell_type": "code",
   "execution_count": 116,
   "metadata": {},
   "outputs": [
    {
     "name": "stdout",
     "output_type": "stream",
     "text": [
      "Shape of X:  (1000, 20)\n",
      "\n",
      "Average before Mean Normalization:  2508.94325\n",
      "Total Values > 2500 before Mean Normalization :  10062\n",
      "Total Values < 2500 before Mean Normalization :  9936\n",
      "\n",
      "Average after Mean Normalization:  2.291500322826323e-17\n",
      "Total -+ve Values:  10018\n",
      "Total -ve Values:  9982\n"
     ]
    }
   ],
   "source": [
    "# Create a 1000 x 20 ndarray with random integers in the half-open interval [0, 5001).\n",
    "X = np.random.randint(0,5001,(1000,20))\n",
    "\n",
    "# print the shape of X\n",
    "print(\"Shape of X: \",X.shape)\n",
    "print()\n",
    "\n",
    "print(\"Average before Mean Normalization: \",np.mean(X))\n",
    "print(\"Total Values > 2500 before Mean Normalization : \",len(X[X > 2500]))\n",
    "print(\"Total Values < 2500 before Mean Normalization : \",len(X[X < 2500]))\n",
    "print()\n",
    "# Average of the values in each column of X\n",
    "avg_cols = np.mean(X,axis=0)\n",
    "\n",
    "# Standard Deviation of the values in each column of X\n",
    "std_cols = np.std(X,axis=0)\n",
    "\n",
    "# Mean normalize X\n",
    "X_norm = (X - avg_cols) / std_cols\n",
    "\n",
    "print(\"Average after Mean Normalization: \",np.mean(X_norm))\n",
    "print(\"Total -+ve Values: \",len(X_norm[X_norm > 0]))\n",
    "print(\"Total -ve Values: \",len(X_norm[X_norm < 0]))"
   ]
  },
  {
   "cell_type": "code",
   "execution_count": 245,
   "metadata": {},
   "outputs": [],
   "source": [
    "\n",
    "# Create a rank 1 ndarray that contains a random permutation of the row indices of `X_norm`\n",
    "row_indices = np.random.permutation(X_norm.shape[0])\n",
    "\n",
    "# Make any necessary calculations.\n",
    "# You can save your calculations into variables to use later.\n",
    "train_data = int(len(X_norm) * 0.6) # 60 %\n",
    "crossVal_data = int(len(X_norm) * 0.2) + train_data # 20 %\n",
    "test_data = int(len(X_norm) * 0.2) + crossVal_data # 20%\n",
    "\n",
    "# Create a Training Set 60 %\n",
    "X_train = X_norm[row_indices[0:train_data]]\n",
    "\n",
    "# Create a Cross Validation Set 20 %\n",
    "X_crossVal = X_norm[row_indices[train_data : crossVal_data]]\n",
    "\n",
    "# Create a Test Set\n",
    "X_test = X_norm[row_indices[crossVal_data :test_data]]"
   ]
  },
  {
   "cell_type": "code",
   "execution_count": 246,
   "metadata": {},
   "outputs": [
    {
     "data": {
      "text/plain": [
       "(600, 20)"
      ]
     },
     "execution_count": 246,
     "metadata": {},
     "output_type": "execute_result"
    }
   ],
   "source": [
    "X_train.shape"
   ]
  },
  {
   "cell_type": "code",
   "execution_count": 247,
   "metadata": {},
   "outputs": [
    {
     "data": {
      "text/plain": [
       "(200, 20)"
      ]
     },
     "execution_count": 247,
     "metadata": {},
     "output_type": "execute_result"
    }
   ],
   "source": [
    "X_crossVal.shape"
   ]
  },
  {
   "cell_type": "code",
   "execution_count": 248,
   "metadata": {},
   "outputs": [
    {
     "data": {
      "text/plain": [
       "(200, 20)"
      ]
     },
     "execution_count": 248,
     "metadata": {},
     "output_type": "execute_result"
    }
   ],
   "source": [
    "X_test.shape"
   ]
  },
  {
   "cell_type": "code",
   "execution_count": null,
   "metadata": {},
   "outputs": [],
   "source": []
  },
  {
   "cell_type": "code",
   "execution_count": null,
   "metadata": {},
   "outputs": [],
   "source": []
  },
  {
   "cell_type": "code",
   "execution_count": null,
   "metadata": {},
   "outputs": [],
   "source": []
  },
  {
   "cell_type": "code",
   "execution_count": null,
   "metadata": {},
   "outputs": [],
   "source": []
  },
  {
   "cell_type": "code",
   "execution_count": null,
   "metadata": {},
   "outputs": [],
   "source": []
  },
  {
   "cell_type": "code",
   "execution_count": null,
   "metadata": {},
   "outputs": [],
   "source": []
  }
 ],
 "metadata": {
  "kernelspec": {
   "display_name": "no1",
   "language": "python",
   "name": "no1"
  },
  "language_info": {
   "codemirror_mode": {
    "name": "ipython",
    "version": 3
   },
   "file_extension": ".py",
   "mimetype": "text/x-python",
   "name": "python",
   "nbconvert_exporter": "python",
   "pygments_lexer": "ipython3",
   "version": "3.8.2"
  }
 },
 "nbformat": 4,
 "nbformat_minor": 4
}
