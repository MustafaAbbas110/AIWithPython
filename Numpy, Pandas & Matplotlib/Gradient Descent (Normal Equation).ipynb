{
 "cells": [
  {
   "cell_type": "code",
   "execution_count": 308,
   "metadata": {},
   "outputs": [],
   "source": [
    "import numpy as np"
   ]
  },
  {
   "cell_type": "code",
   "execution_count": 510,
   "metadata": {},
   "outputs": [],
   "source": [
    "# Gradient Descent By using Numpy"
   ]
  },
  {
   "cell_type": "code",
   "execution_count": 502,
   "metadata": {},
   "outputs": [
    {
     "name": "stdout",
     "output_type": "stream",
     "text": [
      "X:  [2 2 1 2 2 2 2 1 1 1]\n",
      "\n",
      "Y:  [1 1 2 1 1 1 2 1 2 2]\n"
     ]
    }
   ],
   "source": [
    "# Y: Dependent and X: Independent Value\n",
    "X = np.random.randint(1,3,10)\n",
    "Y = np.random.randint(1,3,10)\n",
    "print(\"X: \",X)\n",
    "print()\n",
    "print(\"Y: \",Y)"
   ]
  },
  {
   "cell_type": "code",
   "execution_count": 503,
   "metadata": {},
   "outputs": [],
   "source": [
    "# Convert Array into ( len(X) * 1 ) matrix\n",
    "X = np.reshape(X,(len(X),1))"
   ]
  },
  {
   "cell_type": "code",
   "execution_count": 504,
   "metadata": {},
   "outputs": [],
   "source": [
    "# Transpose \"X\" Matrix by using reshape\n",
    "tX = np.reshape(X,(1,len(X)))"
   ]
  },
  {
   "cell_type": "code",
   "execution_count": 505,
   "metadata": {},
   "outputs": [],
   "source": [
    "# Evaluate transpose of X * X\n",
    "product = tX.dot(X)"
   ]
  },
  {
   "cell_type": "code",
   "execution_count": 506,
   "metadata": {},
   "outputs": [],
   "source": [
    "# Inverse Of Product\n",
    "A = np.linalg.inv(product)"
   ]
  },
  {
   "cell_type": "code",
   "execution_count": 507,
   "metadata": {},
   "outputs": [],
   "source": [
    "# Evaluate transpose of X * Y\n",
    "B = tX.dot(Y)"
   ]
  },
  {
   "cell_type": "code",
   "execution_count": 508,
   "metadata": {},
   "outputs": [
    {
     "name": "stdout",
     "output_type": "stream",
     "text": [
      "Wieght:  [0.75]\n"
     ]
    }
   ],
   "source": [
    "# Final Answer (Weight)\n",
    "ans = A.dot(B)\n",
    "print(\"Wieght: \",ans)"
   ]
  },
  {
   "cell_type": "code",
   "execution_count": 509,
   "metadata": {},
   "outputs": [
    {
     "name": "stdout",
     "output_type": "stream",
     "text": [
      "Mean Error:  0.7\n"
     ]
    }
   ],
   "source": [
    "#  Calculate Error Through Mean\n",
    "error = (X * ans)\n",
    "print(\"Mean Error: \",np.absolute(error - np.reshape(Y,(len(Y),1))).mean())"
   ]
  },
  {
   "cell_type": "code",
   "execution_count": null,
   "metadata": {},
   "outputs": [],
   "source": []
  },
  {
   "cell_type": "code",
   "execution_count": null,
   "metadata": {},
   "outputs": [],
   "source": []
  },
  {
   "cell_type": "code",
   "execution_count": null,
   "metadata": {},
   "outputs": [],
   "source": []
  },
  {
   "cell_type": "code",
   "execution_count": null,
   "metadata": {},
   "outputs": [],
   "source": []
  }
 ],
 "metadata": {
  "kernelspec": {
   "display_name": "Python [conda env:no1]",
   "language": "python",
   "name": "conda-env-no1-py"
  },
  "language_info": {
   "codemirror_mode": {
    "name": "ipython",
    "version": 3
   },
   "file_extension": ".py",
   "mimetype": "text/x-python",
   "name": "python",
   "nbconvert_exporter": "python",
   "pygments_lexer": "ipython3",
   "version": "3.8.2"
  }
 },
 "nbformat": 4,
 "nbformat_minor": 4
}
