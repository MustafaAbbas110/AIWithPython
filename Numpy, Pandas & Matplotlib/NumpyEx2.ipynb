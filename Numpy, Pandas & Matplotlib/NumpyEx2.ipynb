{
 "cells": [
  {
   "cell_type": "code",
   "execution_count": 102,
   "metadata": {},
   "outputs": [],
   "source": [
    "# Zeros , Ones , Full , identity and Diagnal matrix , Gerenrate Sequence -> arange , linspace\n",
    "# reshape , generate random Numbers\n",
    "\n",
    "import numpy as np"
   ]
  },
  {
   "cell_type": "markdown",
   "metadata": {},
   "source": [
    "# Zeros Matrix"
   ]
  },
  {
   "cell_type": "code",
   "execution_count": 13,
   "metadata": {},
   "outputs": [
    {
     "name": "stdout",
     "output_type": "stream",
     "text": [
      "\n",
      "X = \n",
      " [[0. 0. 0. 0.]\n",
      " [0. 0. 0. 0.]\n",
      " [0. 0. 0. 0.]]\n",
      "\n",
      "X has dimensions: (3, 4)\n",
      "X is an object of type: <class 'numpy.ndarray'>\n",
      "The elements in X are of type: float64\n"
     ]
    }
   ],
   "source": [
    "# We create a 3 x 4 ndarray full of zeros. \n",
    "X = np.zeros((3,4))\n",
    "\n",
    "# We print X\n",
    "print()\n",
    "print('X = \\n', X)\n",
    "print()\n",
    "\n",
    "# We print information about X\n",
    "print('X has dimensions:', X.shape)\n",
    "print('X is an object of type:', type(X))\n",
    "print('The elements in X are of type:', X.dtype)"
   ]
  },
  {
   "cell_type": "markdown",
   "metadata": {},
   "source": [
    "# Ones Matrix "
   ]
  },
  {
   "cell_type": "code",
   "execution_count": 14,
   "metadata": {},
   "outputs": [
    {
     "name": "stdout",
     "output_type": "stream",
     "text": [
      "\n",
      "X = \n",
      " [[1. 1.]\n",
      " [1. 1.]\n",
      " [1. 1.]]\n",
      "\n",
      "X has dimensions: (3, 2)\n",
      "X is an object of type: <class 'numpy.ndarray'>\n",
      "The elements in X are of type: float64\n"
     ]
    }
   ],
   "source": [
    "# We create a 3 x 2 ndarray full of ones. \n",
    "X = np.ones((3,2))\n",
    "\n",
    "# We print X\n",
    "print()\n",
    "print('X = \\n', X)\n",
    "print()\n",
    "\n",
    "# We print information about X\n",
    "print('X has dimensions:', X.shape)\n",
    "print('X is an object of type:', type(X))\n",
    "print('The elements in X are of type:', X.dtype) "
   ]
  },
  {
   "cell_type": "markdown",
   "metadata": {},
   "source": [
    "# Full Matrix"
   ]
  },
  {
   "cell_type": "code",
   "execution_count": 15,
   "metadata": {},
   "outputs": [
    {
     "name": "stdout",
     "output_type": "stream",
     "text": [
      "\n",
      "X = \n",
      " [[5 5 5]\n",
      " [5 5 5]]\n",
      "\n",
      "X has dimensions: (2, 3)\n",
      "X is an object of type: <class 'numpy.ndarray'>\n",
      "The elements in X are of type: int32\n"
     ]
    }
   ],
   "source": [
    "# We create a 2 x 3 ndarray full of fives. \n",
    "X = np.full((2,3), 5) \n",
    "\n",
    "# We print X\n",
    "print()\n",
    "print('X = \\n', X)\n",
    "print()\n",
    "\n",
    "# We print information about X\n",
    "print('X has dimensions:', X.shape)\n",
    "print('X is an object of type:', type(X))\n",
    "print('The elements in X are of type:', X.dtype)  "
   ]
  },
  {
   "cell_type": "markdown",
   "metadata": {},
   "source": [
    "# Identity Matrix"
   ]
  },
  {
   "cell_type": "code",
   "execution_count": null,
   "metadata": {},
   "outputs": [],
   "source": [
    "# We create a 5 x 5 Identity matrix. \n",
    "X = np.eye(5)\n",
    "\n",
    "# We print X\n",
    "print()\n",
    "print('X = \\n', X)\n",
    "print()\n",
    "\n",
    "# We print information about X\n",
    "print('X has dimensions:', X.shape)\n",
    "print('X is an object of type:', type(X))\n",
    "print('The elements in X are of type:', X.dtype)  "
   ]
  },
  {
   "cell_type": "markdown",
   "metadata": {},
   "source": [
    "# Special Diaglnal Matrix"
   ]
  },
  {
   "cell_type": "code",
   "execution_count": 17,
   "metadata": {},
   "outputs": [
    {
     "name": "stdout",
     "output_type": "stream",
     "text": [
      "\n",
      "X = \n",
      " [[10  0  0  0]\n",
      " [ 0 20  0  0]\n",
      " [ 0  0 30  0]\n",
      " [ 0  0  0 50]]\n",
      "\n"
     ]
    }
   ],
   "source": [
    "# Create a 4 x 4 diagonal matrix that contains the numbers 10,20,30, and 50\n",
    "# on its main diagonal\n",
    "X = np.diag([10,20,30,50])\n",
    "\n",
    "# We print X\n",
    "print()\n",
    "print('X = \\n', X)\n",
    "print()"
   ]
  },
  {
   "cell_type": "markdown",
   "metadata": {},
   "source": [
    "# arange -> Generate Sequence"
   ]
  },
  {
   "cell_type": "code",
   "execution_count": 32,
   "metadata": {},
   "outputs": [
    {
     "name": "stdout",
     "output_type": "stream",
     "text": [
      "\n",
      "x =  [0 1 2 3 4 5 6 7 8 9]\n",
      "\n",
      "x has dimensions: (10,)\n",
      "x is an object of type: <class 'numpy.ndarray'>\n",
      "The elements in x are of type: int32\n"
     ]
    }
   ],
   "source": [
    "# We create a rank 1 ndarray that has sequential integers from 0 to 9\n",
    "x = np.arange(10)\n",
    "\n",
    "# We print the ndarray\n",
    "print()\n",
    "print('x = ', x)\n",
    "print()\n",
    "\n",
    "# We print information about the ndarray\n",
    "print('x has dimensions:', x.shape)\n",
    "print('x is an object of type:', type(x))\n",
    "print('The elements in x are of type:', x.dtype) "
   ]
  },
  {
   "cell_type": "code",
   "execution_count": 33,
   "metadata": {},
   "outputs": [
    {
     "name": "stdout",
     "output_type": "stream",
     "text": [
      "\n",
      "x =  [4 5 6 7 8 9]\n",
      "\n",
      "x has dimensions: (6,)\n",
      "x is an object of type: <class 'numpy.ndarray'>\n",
      "The elements in x are of type: int32\n"
     ]
    }
   ],
   "source": [
    "# We create a rank 1 ndarray that has sequential integers from 4 to 9. \n",
    "x = np.arange(4,10)\n",
    "\n",
    "# We print the ndarray\n",
    "print()\n",
    "print('x = ', x)\n",
    "print()\n",
    "\n",
    "# We print information about the ndarray\n",
    "print('x has dimensions:', x.shape)\n",
    "print('x is an object of type:', type(x))\n",
    "print('The elements in x are of type:', x.dtype) "
   ]
  },
  {
   "cell_type": "code",
   "execution_count": 34,
   "metadata": {},
   "outputs": [
    {
     "name": "stdout",
     "output_type": "stream",
     "text": [
      "\n",
      "x =  [ 1  4  7 10 13]\n",
      "\n",
      "x has dimensions: (5,)\n",
      "x is an object of type: <class 'numpy.ndarray'>\n",
      "The elements in x are of type: int32\n"
     ]
    }
   ],
   "source": [
    "# We create a rank 1 ndarray that has evenly spaced integers from 1 to 13 in steps of 3.\n",
    "x = np.arange(1,14,3)\n",
    "\n",
    "# We print the ndarray\n",
    "print()\n",
    "print('x = ', x)\n",
    "print()\n",
    "\n",
    "# We print information about the ndarray\n",
    "print('x has dimensions:', x.shape)\n",
    "print('x is an object of type:', type(x))\n",
    "print('The elements in x are of type:', x.dtype) "
   ]
  },
  {
   "cell_type": "markdown",
   "metadata": {},
   "source": [
    "# linspace -> Generate Sequence Works on Inteval"
   ]
  },
  {
   "cell_type": "code",
   "execution_count": 53,
   "metadata": {},
   "outputs": [
    {
     "name": "stdout",
     "output_type": "stream",
     "text": [
      "\n",
      "x = \n",
      " [ 0.          2.77777778  5.55555556  8.33333333 11.11111111 13.88888889\n",
      " 16.66666667 19.44444444 22.22222222 25.        ]\n",
      "\n",
      "x has dimensions: (10,)\n",
      "x is an object of type: <class 'numpy.ndarray'>\n",
      "The elements in x are of type: float64\n"
     ]
    }
   ],
   "source": [
    "# We create a rank 1 ndarray that has 10 integers evenly spaced between 0 and 25.\n",
    "x = np.linspace(0,25,10)\n",
    "\n",
    "# We print the ndarray\n",
    "print()\n",
    "print('x = \\n', x)\n",
    "print()\n",
    "\n",
    "# We print information about the ndarray\n",
    "print('x has dimensions:', x.shape)\n",
    "print('x is an object of type:', type(x))\n",
    "print('The elements in x are of type:', x.dtype) "
   ]
  },
  {
   "cell_type": "code",
   "execution_count": 54,
   "metadata": {},
   "outputs": [
    {
     "name": "stdout",
     "output_type": "stream",
     "text": [
      "\n",
      "x =  [ 0.   2.5  5.   7.5 10.  12.5 15.  17.5 20.  22.5]\n",
      "\n",
      "x has dimensions: (10,)\n",
      "x is an object of type: <class 'numpy.ndarray'>\n",
      "The elements in x are of type: float64\n"
     ]
    }
   ],
   "source": [
    "# We create a rank 1 ndarray that has 10 integers evenly spaced between 0 and 25,\n",
    "# with 25 excluded.\n",
    "x = np.linspace(0,25,10, endpoint = False)\n",
    "\n",
    "# We print the ndarray\n",
    "print()\n",
    "print('x = ', x)\n",
    "print()\n",
    "\n",
    "# We print information about the ndarray\n",
    "print('x has dimensions:', x.shape)\n",
    "print('x is an object of type:', type(x))\n",
    "print('The elements in x are of type:', x.dtype) "
   ]
  },
  {
   "cell_type": "markdown",
   "metadata": {},
   "source": [
    "# reshape Matrix"
   ]
  },
  {
   "cell_type": "code",
   "execution_count": 68,
   "metadata": {},
   "outputs": [
    {
     "name": "stdout",
     "output_type": "stream",
     "text": [
      "\n",
      "Original x =  [ 0  1  2  3  4  5  6  7  8  9 10 11 12 13 14 15 16 17 18 19]\n",
      "\n",
      "\n",
      "Reshaped x = \n",
      " [[ 0  1  2  3  4]\n",
      " [ 5  6  7  8  9]\n",
      " [10 11 12 13 14]\n",
      " [15 16 17 18 19]]\n",
      "\n",
      "x has dimensions: (4, 5)\n",
      "x is an object of type: <class 'numpy.ndarray'>\n",
      "The elements in x are of type: int32\n"
     ]
    }
   ],
   "source": [
    "# We create a rank 1 ndarray with sequential integers from 0 to 19\n",
    "x = np.arange(20)\n",
    "\n",
    "# We print x\n",
    "print()\n",
    "print('Original x = ', x)\n",
    "print()\n",
    "\n",
    "# We reshape x into a 4 x 5 ndarray \n",
    "x = np.reshape(x, (4,5))\n",
    "\n",
    "# We print the reshaped x\n",
    "print()\n",
    "print('Reshaped x = \\n', x)\n",
    "print()\n",
    "\n",
    "# We print information about the reshaped x\n",
    "print('x has dimensions:', x.shape)\n",
    "print('x is an object of type:', type(x))\n",
    "print('The elements in x are of type:', x.dtype) "
   ]
  },
  {
   "cell_type": "code",
   "execution_count": 70,
   "metadata": {},
   "outputs": [
    {
     "name": "stdout",
     "output_type": "stream",
     "text": [
      "\n",
      "Y = \n",
      " [[ 0  1  2  3  4]\n",
      " [ 5  6  7  8  9]\n",
      " [10 11 12 13 14]\n",
      " [15 16 17 18 19]]\n",
      "\n",
      "Y has dimensions: (4, 5)\n",
      "Y is an object of type: <class 'numpy.ndarray'>\n",
      "The elements in Y are of type: int32\n"
     ]
    }
   ],
   "source": [
    "# We create a a rank 1 ndarray with sequential integers from 0 to 19 and\n",
    "# reshape it to a 4 x 5 array \n",
    "Y = np.arange(20).reshape(4, 5)\n",
    "\n",
    "# We print Y\n",
    "print()\n",
    "print('Y = \\n', Y)\n",
    "print()\n",
    "\n",
    "# We print information about Y\n",
    "print('Y has dimensions:', Y.shape)\n",
    "print('Y is an object of type:', type(Y))\n",
    "print('The elements in Y are of type:', Y.dtype) "
   ]
  },
  {
   "cell_type": "code",
   "execution_count": 77,
   "metadata": {},
   "outputs": [
    {
     "name": "stdout",
     "output_type": "stream",
     "text": [
      "\n",
      "X = \n",
      " [[ 0.  1.  2.  3.  4.  5.  6.  7.  8.  9.]\n",
      " [10. 11. 12. 13. 14. 15. 16. 17. 18. 19.]\n",
      " [20. 21. 22. 23. 24. 25. 26. 27. 28. 29.]\n",
      " [30. 31. 32. 33. 34. 35. 36. 37. 38. 39.]\n",
      " [40. 41. 42. 43. 44. 45. 46. 47. 48. 49.]\n",
      " [50. 51. 52. 53. 54. 55. 56. 57. 58. 59.]\n",
      " [60. 61. 62. 63. 64. 65. 66. 67. 68. 69.]\n",
      " [70. 71. 72. 73. 74. 75. 76. 77. 78. 79.]\n",
      " [80. 81. 82. 83. 84. 85. 86. 87. 88. 89.]\n",
      " [90. 91. 92. 93. 94. 95. 96. 97. 98. 99.]]\n",
      "\n",
      "X has dimensions: (10, 10)\n",
      "X is an object of type: <class 'numpy.ndarray'>\n",
      "The elements in X are of type: float64\n"
     ]
    }
   ],
   "source": [
    "# We create a rank 1 ndarray with 10 integers evenly spaced between 0 and 50,\n",
    "# with 50 excluded. We then reshape it to a 5 x 2 ndarray\n",
    "X = np.linspace(0,100,100, endpoint=False).reshape(10,10)\n",
    "\n",
    "# We print X\n",
    "print()\n",
    "print('X = \\n', X)\n",
    "print()\n",
    "\n",
    "# We print information about X\n",
    "print('X has dimensions:', X.shape)\n",
    "print('X is an object of type:', type(X))\n",
    "print('The elements in X are of type:', X.dtype)"
   ]
  },
  {
   "cell_type": "markdown",
   "metadata": {},
   "source": [
    "# Random Numbers"
   ]
  },
  {
   "cell_type": "code",
   "execution_count": 81,
   "metadata": {},
   "outputs": [
    {
     "name": "stdout",
     "output_type": "stream",
     "text": [
      "\n",
      "X = \n",
      " [[0.66143051 0.6477074  0.35437818]\n",
      " [0.1331307  0.49875526 0.55494173]\n",
      " [0.57750967 0.94819128 0.90469833]]\n",
      "\n",
      "X has dimensions: (3, 3)\n",
      "X is an object of type: <class 'numpy.ndarray'>\n",
      "The elements in x are of type: float64\n"
     ]
    }
   ],
   "source": [
    "# We create a 3 x 3 ndarray with random floats in the half-open interval [0.0, 1.0).\n",
    "X = np.random.random((3,3))\n",
    "\n",
    "# We print X\n",
    "print()\n",
    "print('X = \\n', X)\n",
    "print()\n",
    "\n",
    "# We print information about X\n",
    "print('X has dimensions:', X.shape)\n",
    "print('X is an object of type:', type(X))\n",
    "print('The elements in x are of type:', X.dtype)"
   ]
  },
  {
   "cell_type": "code",
   "execution_count": 92,
   "metadata": {},
   "outputs": [
    {
     "name": "stdout",
     "output_type": "stream",
     "text": [
      "\n",
      "X = \n",
      " [[ 5  4]\n",
      " [ 8  9]\n",
      " [10 10]]\n",
      "\n",
      "X has dimensions: (3, 2)\n",
      "X is an object of type: <class 'numpy.ndarray'>\n",
      "The elements in X are of type: int32\n"
     ]
    }
   ],
   "source": [
    "# We create a 3 x 2 ndarray with random integers in the half-open interval [4, 15).\n",
    "X = np.random.randint(4,15,size=(3,2))\n",
    "\n",
    "# We print X\n",
    "print()\n",
    "print('X = \\n', X)\n",
    "print()\n",
    "\n",
    "# We print information about X\n",
    "print('X has dimensions:', X.shape)\n",
    "print('X is an object of type:', type(X))\n",
    "print('The elements in X are of type:', X.dtype)"
   ]
  },
  {
   "cell_type": "code",
   "execution_count": 97,
   "metadata": {},
   "outputs": [
    {
     "name": "stdout",
     "output_type": "stream",
     "text": [
      "\n",
      "X = \n",
      " [[ 0.07308774 -0.0811777  -0.1057875  ...  0.21125138  0.04139605\n",
      "  -0.09559749]\n",
      " [-0.04103631 -0.04234265 -0.05926547 ... -0.07327294 -0.07698802\n",
      "   0.1182024 ]\n",
      " [-0.09967167 -0.07686252 -0.06063993 ...  0.09506589  0.07442235\n",
      "  -0.05524348]\n",
      " ...\n",
      " [-0.04215152  0.13913378 -0.06060759 ... -0.1076098  -0.09722468\n",
      "   0.06806166]\n",
      " [-0.03974393 -0.05562872  0.10836944 ...  0.14460141  0.01648389\n",
      "  -0.01971436]\n",
      " [-0.14323457 -0.13219957  0.04531348 ...  0.05498963  0.01241438\n",
      "   0.01652967]]\n",
      "\n",
      "X has dimensions: (1000, 1000)\n",
      "X is an object of type: <class 'numpy.ndarray'>\n",
      "The elements in X are of type: float64\n",
      "The elements in X have a mean of: 3.113836365231368e-05\n",
      "The maximum value in X is: 0.4540621152184309\n",
      "The minimum value in X is: -0.47327615321660627\n",
      "X has 499589 negative numbers\n",
      "X has 500411 positive numbers\n"
     ]
    }
   ],
   "source": [
    "# We create a 1000 x 1000 ndarray of random floats drawn from normal (Gaussian) distribution\n",
    "# with a mean of zero and a standard deviation of 0.1.\n",
    "X = np.random.normal(0, 0.1, size=(1000,1000))\n",
    "\n",
    "# We print X\n",
    "print()\n",
    "print('X = \\n', X)\n",
    "print()\n",
    "\n",
    "# We print information about X\n",
    "print('X has dimensions:', X.shape)\n",
    "print('X is an object of type:', type(X))\n",
    "print('The elements in X are of type:', X.dtype)\n",
    "print('The elements in X have a mean of:', X.mean())\n",
    "print('The maximum value in X is:', X.max())\n",
    "print('The minimum value in X is:', X.min())\n",
    "print('X has', (X < 0).sum(), 'negative numbers')\n",
    "print('X has', (X > 0).sum(), 'positive numbers')"
   ]
  },
  {
   "cell_type": "code",
   "execution_count": null,
   "metadata": {},
   "outputs": [],
   "source": []
  },
  {
   "cell_type": "code",
   "execution_count": null,
   "metadata": {},
   "outputs": [],
   "source": []
  }
 ],
 "metadata": {
  "kernelspec": {
   "display_name": "no1",
   "language": "python",
   "name": "no1"
  },
  "language_info": {
   "codemirror_mode": {
    "name": "ipython",
    "version": 3
   },
   "file_extension": ".py",
   "mimetype": "text/x-python",
   "name": "python",
   "nbconvert_exporter": "python",
   "pygments_lexer": "ipython3",
   "version": "3.8.2"
  }
 },
 "nbformat": 4,
 "nbformat_minor": 4
}
